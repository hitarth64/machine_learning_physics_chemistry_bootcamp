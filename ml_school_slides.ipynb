{
  "nbformat": 4,
  "nbformat_minor": 0,
  "metadata": {
    "colab": {
      "name": "Copy of ml_school_slides",
      "provenance": [],
      "collapsed_sections": []
    },
    "kernelspec": {
      "name": "python3",
      "display_name": "Python 3"
    },
    "widgets": {
      "application/vnd.jupyter.widget-state+json": {
        "9d63e27f1cc04aa092fd53bd10464ca5": {
          "model_module": "@jupyter-widgets/controls",
          "model_name": "HBoxModel",
          "state": {
            "_view_name": "HBoxView",
            "_dom_classes": [],
            "_model_name": "HBoxModel",
            "_view_module": "@jupyter-widgets/controls",
            "_model_module_version": "1.5.0",
            "_view_count": null,
            "_view_module_version": "1.5.0",
            "box_style": "",
            "layout": "IPY_MODEL_4ec582b5538b4a428c397e2c9e61276c",
            "_model_module": "@jupyter-widgets/controls",
            "children": [
              "IPY_MODEL_9049b29661c44d8db2bc663b8ba047ac",
              "IPY_MODEL_4dc80a631c744faaad4eace79718913c"
            ]
          }
        },
        "4ec582b5538b4a428c397e2c9e61276c": {
          "model_module": "@jupyter-widgets/base",
          "model_name": "LayoutModel",
          "state": {
            "_view_name": "LayoutView",
            "grid_template_rows": null,
            "right": null,
            "justify_content": null,
            "_view_module": "@jupyter-widgets/base",
            "overflow": null,
            "_model_module_version": "1.2.0",
            "_view_count": null,
            "flex_flow": null,
            "width": null,
            "min_width": null,
            "border": null,
            "align_items": null,
            "bottom": null,
            "_model_module": "@jupyter-widgets/base",
            "top": null,
            "grid_column": null,
            "overflow_y": null,
            "overflow_x": null,
            "grid_auto_flow": null,
            "grid_area": null,
            "grid_template_columns": null,
            "flex": null,
            "_model_name": "LayoutModel",
            "justify_items": null,
            "grid_row": null,
            "max_height": null,
            "align_content": null,
            "visibility": null,
            "align_self": null,
            "height": null,
            "min_height": null,
            "padding": null,
            "grid_auto_rows": null,
            "grid_gap": null,
            "max_width": null,
            "order": null,
            "_view_module_version": "1.2.0",
            "grid_template_areas": null,
            "object_position": null,
            "object_fit": null,
            "grid_auto_columns": null,
            "margin": null,
            "display": null,
            "left": null
          }
        },
        "9049b29661c44d8db2bc663b8ba047ac": {
          "model_module": "@jupyter-widgets/controls",
          "model_name": "IntProgressModel",
          "state": {
            "_view_name": "ProgressView",
            "style": "IPY_MODEL_4454bd70ab9b480483d74f0d37ff58cb",
            "_dom_classes": [],
            "description": "Optimization Progress: 100%",
            "_model_name": "IntProgressModel",
            "bar_style": "",
            "max": 300,
            "_view_module": "@jupyter-widgets/controls",
            "_model_module_version": "1.5.0",
            "value": 300,
            "_view_count": null,
            "_view_module_version": "1.5.0",
            "orientation": "horizontal",
            "min": 0,
            "description_tooltip": null,
            "_model_module": "@jupyter-widgets/controls",
            "layout": "IPY_MODEL_785715c154b04aed853ba8c7b9df187b"
          }
        },
        "4dc80a631c744faaad4eace79718913c": {
          "model_module": "@jupyter-widgets/controls",
          "model_name": "HTMLModel",
          "state": {
            "_view_name": "HTMLView",
            "style": "IPY_MODEL_1b199597ace44bd1a41f42201f6a7035",
            "_dom_classes": [],
            "description": "",
            "_model_name": "HTMLModel",
            "placeholder": "​",
            "_view_module": "@jupyter-widgets/controls",
            "_model_module_version": "1.5.0",
            "value": " 300/300 [04:11&lt;00:00,  1.19pipeline/s]",
            "_view_count": null,
            "_view_module_version": "1.5.0",
            "description_tooltip": null,
            "_model_module": "@jupyter-widgets/controls",
            "layout": "IPY_MODEL_7036035977c44d8499aa75ff243c4dfe"
          }
        },
        "4454bd70ab9b480483d74f0d37ff58cb": {
          "model_module": "@jupyter-widgets/controls",
          "model_name": "ProgressStyleModel",
          "state": {
            "_view_name": "StyleView",
            "_model_name": "ProgressStyleModel",
            "description_width": "initial",
            "_view_module": "@jupyter-widgets/base",
            "_model_module_version": "1.5.0",
            "_view_count": null,
            "_view_module_version": "1.2.0",
            "bar_color": null,
            "_model_module": "@jupyter-widgets/controls"
          }
        },
        "785715c154b04aed853ba8c7b9df187b": {
          "model_module": "@jupyter-widgets/base",
          "model_name": "LayoutModel",
          "state": {
            "_view_name": "LayoutView",
            "grid_template_rows": null,
            "right": null,
            "justify_content": null,
            "_view_module": "@jupyter-widgets/base",
            "overflow": null,
            "_model_module_version": "1.2.0",
            "_view_count": null,
            "flex_flow": null,
            "width": null,
            "min_width": null,
            "border": null,
            "align_items": null,
            "bottom": null,
            "_model_module": "@jupyter-widgets/base",
            "top": null,
            "grid_column": null,
            "overflow_y": null,
            "overflow_x": null,
            "grid_auto_flow": null,
            "grid_area": null,
            "grid_template_columns": null,
            "flex": null,
            "_model_name": "LayoutModel",
            "justify_items": null,
            "grid_row": null,
            "max_height": null,
            "align_content": null,
            "visibility": null,
            "align_self": null,
            "height": null,
            "min_height": null,
            "padding": null,
            "grid_auto_rows": null,
            "grid_gap": null,
            "max_width": null,
            "order": null,
            "_view_module_version": "1.2.0",
            "grid_template_areas": null,
            "object_position": null,
            "object_fit": null,
            "grid_auto_columns": null,
            "margin": null,
            "display": null,
            "left": null
          }
        },
        "1b199597ace44bd1a41f42201f6a7035": {
          "model_module": "@jupyter-widgets/controls",
          "model_name": "DescriptionStyleModel",
          "state": {
            "_view_name": "StyleView",
            "_model_name": "DescriptionStyleModel",
            "description_width": "",
            "_view_module": "@jupyter-widgets/base",
            "_model_module_version": "1.5.0",
            "_view_count": null,
            "_view_module_version": "1.2.0",
            "_model_module": "@jupyter-widgets/controls"
          }
        },
        "7036035977c44d8499aa75ff243c4dfe": {
          "model_module": "@jupyter-widgets/base",
          "model_name": "LayoutModel",
          "state": {
            "_view_name": "LayoutView",
            "grid_template_rows": null,
            "right": null,
            "justify_content": null,
            "_view_module": "@jupyter-widgets/base",
            "overflow": null,
            "_model_module_version": "1.2.0",
            "_view_count": null,
            "flex_flow": null,
            "width": null,
            "min_width": null,
            "border": null,
            "align_items": null,
            "bottom": null,
            "_model_module": "@jupyter-widgets/base",
            "top": null,
            "grid_column": null,
            "overflow_y": null,
            "overflow_x": null,
            "grid_auto_flow": null,
            "grid_area": null,
            "grid_template_columns": null,
            "flex": null,
            "_model_name": "LayoutModel",
            "justify_items": null,
            "grid_row": null,
            "max_height": null,
            "align_content": null,
            "visibility": null,
            "align_self": null,
            "height": null,
            "min_height": null,
            "padding": null,
            "grid_auto_rows": null,
            "grid_gap": null,
            "max_width": null,
            "order": null,
            "_view_module_version": "1.2.0",
            "grid_template_areas": null,
            "object_position": null,
            "object_fit": null,
            "grid_auto_columns": null,
            "margin": null,
            "display": null,
            "left": null
          }
        }
      }
    }
  },
  "cells": [
    {
      "cell_type": "markdown",
      "metadata": {
        "id": "X17SQ33aFz0B"
      },
      "source": [
        "Let's do some Alchemy!!!\n",
        "\n",
        "We will build everything up from just the wave functions & chemical properties of the elements!\n",
        "\n",
        "But before we do that, let's install a few libraries that we need to perform our tasks! \n",
        "\n",
        "* In a Jupyter Notebook, we can execute commands by placing ! (an exclamation mark) before the commands. "
      ]
    },
    {
      "cell_type": "code",
      "metadata": {
        "id": "3VAE8j1DFum3",
        "colab": {
          "base_uri": "https://localhost:8080/",
          "height": 575
        },
        "outputId": "4648bddf-ffd3-4e47-9ff5-2215e98ac7d5"
      },
      "source": [
        "!pip install tpot"
      ],
      "execution_count": null,
      "outputs": [
        {
          "output_type": "stream",
          "text": [
            "Collecting tpot\n",
            "\u001b[?25l  Downloading https://files.pythonhosted.org/packages/ea/9f/813faf5ec7aa95f393a07603abd01fcb925b65ffe95441b25da029a69ff7/TPOT-0.11.1-py3-none-any.whl (75kB)\n",
            "\r\u001b[K     |████▎                           | 10kB 18.8MB/s eta 0:00:01\r\u001b[K     |████████▋                       | 20kB 1.7MB/s eta 0:00:01\r\u001b[K     |█████████████                   | 30kB 2.5MB/s eta 0:00:01\r\u001b[K     |█████████████████▎              | 40kB 3.3MB/s eta 0:00:01\r\u001b[K     |█████████████████████▋          | 51kB 2.1MB/s eta 0:00:01\r\u001b[K     |██████████████████████████      | 61kB 2.5MB/s eta 0:00:01\r\u001b[K     |██████████████████████████████▎ | 71kB 2.9MB/s eta 0:00:01\r\u001b[K     |████████████████████████████████| 81kB 2.5MB/s \n",
            "\u001b[?25hCollecting update-checker>=0.16\n",
            "  Downloading https://files.pythonhosted.org/packages/17/c9/ab11855af164d03be0ff4fddd4c46a5bd44799a9ecc1770e01a669c21168/update_checker-0.16-py2.py3-none-any.whl\n",
            "Requirement already satisfied: scikit-learn>=0.22.0 in /usr/local/lib/python3.6/dist-packages (from tpot) (0.22.2.post1)\n",
            "Collecting stopit>=1.1.1\n",
            "  Downloading https://files.pythonhosted.org/packages/35/58/e8bb0b0fb05baf07bbac1450c447d753da65f9701f551dca79823ce15d50/stopit-1.1.2.tar.gz\n",
            "Collecting deap>=1.2\n",
            "\u001b[?25l  Downloading https://files.pythonhosted.org/packages/0a/eb/2bd0a32e3ce757fb26264765abbaedd6d4d3640d90219a513aeabd08ee2b/deap-1.3.1-cp36-cp36m-manylinux2010_x86_64.whl (157kB)\n",
            "\u001b[K     |████████████████████████████████| 163kB 8.6MB/s \n",
            "\u001b[?25hRequirement already satisfied: joblib>=0.13.2 in /usr/local/lib/python3.6/dist-packages (from tpot) (0.14.1)\n",
            "Requirement already satisfied: tqdm>=4.36.1 in /usr/local/lib/python3.6/dist-packages (from tpot) (4.38.0)\n",
            "Requirement already satisfied: pandas>=0.24.2 in /usr/local/lib/python3.6/dist-packages (from tpot) (1.0.3)\n",
            "Requirement already satisfied: numpy>=1.16.3 in /usr/local/lib/python3.6/dist-packages (from tpot) (1.18.2)\n",
            "Requirement already satisfied: scipy>=1.3.1 in /usr/local/lib/python3.6/dist-packages (from tpot) (1.4.1)\n",
            "Requirement already satisfied: requests>=2.3.0 in /usr/local/lib/python3.6/dist-packages (from update-checker>=0.16->tpot) (2.21.0)\n",
            "Requirement already satisfied: pytz>=2017.2 in /usr/local/lib/python3.6/dist-packages (from pandas>=0.24.2->tpot) (2018.9)\n",
            "Requirement already satisfied: python-dateutil>=2.6.1 in /usr/local/lib/python3.6/dist-packages (from pandas>=0.24.2->tpot) (2.8.1)\n",
            "Requirement already satisfied: chardet<3.1.0,>=3.0.2 in /usr/local/lib/python3.6/dist-packages (from requests>=2.3.0->update-checker>=0.16->tpot) (3.0.4)\n",
            "Requirement already satisfied: certifi>=2017.4.17 in /usr/local/lib/python3.6/dist-packages (from requests>=2.3.0->update-checker>=0.16->tpot) (2020.4.5.1)\n",
            "Requirement already satisfied: urllib3<1.25,>=1.21.1 in /usr/local/lib/python3.6/dist-packages (from requests>=2.3.0->update-checker>=0.16->tpot) (1.24.3)\n",
            "Requirement already satisfied: idna<2.9,>=2.5 in /usr/local/lib/python3.6/dist-packages (from requests>=2.3.0->update-checker>=0.16->tpot) (2.8)\n",
            "Requirement already satisfied: six>=1.5 in /usr/local/lib/python3.6/dist-packages (from python-dateutil>=2.6.1->pandas>=0.24.2->tpot) (1.12.0)\n",
            "Building wheels for collected packages: stopit\n",
            "  Building wheel for stopit (setup.py) ... \u001b[?25l\u001b[?25hdone\n",
            "  Created wheel for stopit: filename=stopit-1.1.2-cp36-none-any.whl size=11956 sha256=eee4cf7857d55b3c203da105032c88b83fd779218e5ae18201e2005cb460b608\n",
            "  Stored in directory: /root/.cache/pip/wheels/3c/85/2b/2580190404636bfc63e8de3dff629c03bb795021e1983a6cc7\n",
            "Successfully built stopit\n",
            "Installing collected packages: update-checker, stopit, deap, tpot\n",
            "Successfully installed deap-1.3.1 stopit-1.1.2 tpot-0.11.1 update-checker-0.16\n"
          ],
          "name": "stdout"
        }
      ]
    },
    {
      "cell_type": "markdown",
      "metadata": {
        "id": "M2DM3-XoH5d5"
      },
      "source": [
        "# What's Machine Learning?\n",
        "\n",
        "Now, we have all the required tools at our disposal. \n",
        "\n",
        "We therefore, ask what's Machine Learning (ML)?\n",
        "\n",
        "* Refer to slides for introduction on ML.\n",
        "\n",
        "Machine Learning has 'learning' in it. So, one must ask - what are we learning? Or where do we learn from?\n",
        "\n",
        "* This leads us to the next step! We need to get the data!"
      ]
    },
    {
      "cell_type": "markdown",
      "metadata": {
        "id": "IEeTrHbvLOPy"
      },
      "source": [
        "# How to get Data?\n",
        "\n",
        "There are lots of databases that exist out there. A few of them are experimental and others are based on theoretical calculations like DFT or MD or MCMC. A few of these are:\n",
        "- Your own experimental data\n",
        "- Materials Project\n",
        "- OQMD\n",
        "- AFLOW\n",
        "- quantum-machine.org\n",
        "- NREL database\n",
        "- 2D materials encylopedia\n",
        "- Drugbank (COVID19 drug search)!"
      ]
    },
    {
      "cell_type": "markdown",
      "metadata": {
        "id": "gi6KTEgnUPZo"
      },
      "source": [
        "# How do Machines Learn?\n",
        "\n",
        "So, one must now ask what are the different ways by which we can make Machine Learn?\n",
        "\n",
        "* There are quite a lot of Supervised Machine Learning algorithms that exist\n",
        "* All of them, can however, be classified as either based on Deep Learning or not based on Deep Learning\n",
        "* Deep Learning is a subset of Machine Learning algorithms taking the inspiration from information processing in biological systems\n",
        "* However, such deep learning based methods require huge amount of datasets and hence, becomes impractical if we have smaller datasets or small amount of data\n",
        "* Non deep-learning methods do not suffer from this curse! And when used properly are capable of handling complex problems as well. \n",
        "\n"
      ]
    },
    {
      "cell_type": "markdown",
      "metadata": {
        "id": "efcaFIoRVoT5"
      },
      "source": [
        "# Data Naming conventions\n",
        "\n",
        "Before we go ahead and make machines learn, we need to set some conventions that we will follow to represent our data. \n",
        "\n",
        "Let's say we have N pairs of datapoints: $(X_i,y_i)$ where $0\\leq i \\leq N-1$. We can accumulate all the datapoints as a matrix $\\textbf{X}$ and $\\textbf{y}$ such that $\\textbf{X}=[X_0,X_1,..,X_{n-1}]$ and $\\textbf{y} = [y_0,y_1,...,y_{n-1}]$.\n",
        "\n",
        "The pairs $(X_i,y_i)$ can be anything. They can represent:\n",
        "* (crystal structure, bandgaps)\n",
        "* (DNA sequence, selectivity)\n",
        "* (Images, person's name)\n",
        "* (Speech, emotion) and so on...\n",
        "\n",
        "For our little ML class, we will focus on the materials dataset that we downloaded before!\n",
        "\n",
        "\n",
        "\n"
      ]
    },
    {
      "cell_type": "markdown",
      "metadata": {
        "id": "ViEdq4GFbqbv"
      },
      "source": [
        "# Training and testing dataset\n",
        "\n",
        "* Once we make our machines learn on data, how can we be sure that they actually learnt anything?\n",
        "\n",
        "* This is the classical problem of learning v/s memorizing\n",
        "\n",
        "* Our ML models can simply remember everything we provide and not learn anything at all. \n",
        "\n",
        "* This will result in very high accuracy for our provided data but they won't perform very good on unseen datasets. \n",
        "\n",
        "* Thus, what we do is that we set a portion of our data for testing our ML models; we call it **Testing dataset**\n",
        "\n",
        "* The strategy thus, is that given a dataset tuple $(X,y)$, we split them into two tuples: $(train\\_X,train\\_y)$ and $(test\\_X,test\\_y)$"
      ]
    },
    {
      "cell_type": "markdown",
      "metadata": {
        "id": "_RiZFM2jL-og"
      },
      "source": [
        "### Let's change our working directory\n",
        "\n",
        "### Mount your Google drive first using the intructions shown before in the slides!\n",
        "\n",
        "* Now go to the directory where you have saved the files we sent you (specifically *CO_CO2_RR_exp_database.xlsx*)"
      ]
    },
    {
      "cell_type": "code",
      "metadata": {
        "id": "oCLvUNLeL956",
        "colab": {
          "base_uri": "https://localhost:8080/",
          "height": 35
        },
        "outputId": "db4633fb-5153-42b4-8d03-499f526718e9"
      },
      "source": [
        "cd drive/My\\ Drive/quantum_mechanics"
      ],
      "execution_count": null,
      "outputs": [
        {
          "output_type": "stream",
          "text": [
            "/content/drive/My Drive/quantum_mechanics\n"
          ],
          "name": "stdout"
        }
      ]
    },
    {
      "cell_type": "markdown",
      "metadata": {
        "id": "JYUID1jktXar"
      },
      "source": [
        "## Handling Data (Intro to Pandas)\n",
        "\n",
        "### Functionalities\n",
        "* We suggest you to save your data in tabular forms as .csv or excel files\n",
        "* Pandas is a great python library to handle data - both for loading and storing data\n",
        "* In the following couple of sections of this notebook, we will show how to load, process and save data using Pandas!\n",
        "\n",
        "### Loading data using Pandas\n",
        "* Let's say your experimental data is present in a tabular form (See the file - CO_CO2_RR_exp_database.xlsx)\n",
        "\n",
        "* Pandas allows to read files with just one line!\n",
        "       df = pd.read_excel('CO_CO2_RR_exp_database.xlsx') \n",
        "\n",
        "* Pandas allows you to read csv files as well!\n",
        "       df = pd.read_csv('filename.csv') \n",
        "\n",
        "* This loads the excel file as a Pandas object which is called Pandas DataFrame!\n",
        "\n",
        "![picture](https://drive.google.com/uc?id=1W7F7MIqFRb3KfxTk5Q03tSVE3u51XTAR)"
      ]
    },
    {
      "cell_type": "markdown",
      "metadata": {
        "id": "y12jAvSyXwsE"
      },
      "source": [
        "# show the excel file!"
      ]
    },
    {
      "cell_type": "code",
      "metadata": {
        "id": "qvvDqS-m4GX2",
        "colab": {
          "base_uri": "https://localhost:8080/",
          "height": 260
        },
        "outputId": "a7b572a8-764d-4d0b-fa66-3b83756fafeb"
      },
      "source": [
        "# Import the Pandas library\n",
        "import pandas as pd\n",
        "\n",
        "# Read your excel file\n",
        "df = pd.read_excel('CO_CO2_RR_exp_database.xlsx')\n",
        "\n",
        "# In case you have a csv file, you can use:\n",
        "# df = pd.read_csv('filename.csv')\n",
        "\n",
        "print(df)"
      ],
      "execution_count": null,
      "outputs": [
        {
          "output_type": "stream",
          "text": [
            "        Creator  ...      Total\n",
            "0      Member 1  ...  14.691853\n",
            "1      Member 1  ...  18.293114\n",
            "2      Member 1  ...  19.885077\n",
            "3      Member 1  ...   5.857601\n",
            "4      Member 1  ...  22.897618\n",
            "...         ...  ...        ...\n",
            "3710   Member 9  ...  68.854736\n",
            "3711  Member 10  ...  93.800000\n",
            "3712  Member 10  ...  86.500000\n",
            "3713  Member 10  ...  80.400000\n",
            "3714  Member 10  ...  84.000000\n",
            "\n",
            "[3715 rows x 60 columns]\n"
          ],
          "name": "stdout"
        }
      ]
    },
    {
      "cell_type": "markdown",
      "metadata": {
        "id": "94Rr4rnj41dj"
      },
      "source": [
        "* A dataframe object has rows and columns indexed by what we call 'index' and 'columns'\n",
        "\n",
        "* In the above dataframe, there are 3715 indices and 60 columns. Columns represent different features. Entries in the first column of a csv file or excel file are treated as names of the columns by the read function of Pandas.\n",
        "\n",
        "* Indices are inferred from row numbers of excel file or csv file.\n",
        "\n",
        "* Let's dig a bit into how values are being managed in the csv file."
      ]
    },
    {
      "cell_type": "markdown",
      "metadata": {
        "id": "TaaX66xN6fQT"
      },
      "source": [
        "### Processing data using Pandas\n",
        "\n",
        "* You can view specific columns of Pandas dataframe. Let's say we want to view the columns - Total Gas and n-PrOH \n",
        "      print(df[['Total Gas','n-PrOH']])\n",
        "\n",
        "![picture](https://drive.google.com/uc?id=12uIOyGZRJ0PO64qZgjdwTbFRoxJ8Bu7G)\n",
        "\n",
        "* You can add as many columns name as you want in the list. Here we simply chose 'Total Gas' and 'n-PrOH'\n",
        "\n",
        "* Now, you are seeing NaN in some of the entries. 'NaN' is python's way of telling you that, that value was not present in that cell of the excel sheet.\n",
        "\n",
        "* This means that for the first entry in the experimental results present in the excel file, experimentalist did not record the normality of PrOH. \n",
        "\n",
        "* There are two most common ways we can handle such cases:\n",
        "          1. Replace all such NaN values using zeros using: \n",
        "             df = df.fillna(0)\n",
        "             print(df)\n",
        "          2. Replacing all the NaNs with the average value of that property:\n",
        "             df = df.fillna(df.mean())\n",
        "             print(df)\n",
        "\n",
        "\n",
        "\n"
      ]
    },
    {
      "cell_type": "code",
      "metadata": {
        "id": "uWwiEFoy9TDn",
        "colab": {
          "base_uri": "https://localhost:8080/",
          "height": 503
        },
        "outputId": "57cd1415-4166-4149-e93e-09a938de8b26"
      },
      "source": [
        "# Showing one of the approaches shown above\n",
        "# df = df.fillna(0)\n",
        "\n",
        "# Print contents before we process NaNs\n",
        "print(df[['Total Gas','n-PrOH']])\n",
        "\n",
        "# Process the NaNs; replacing them with mean values\n",
        "df = df.fillna(df.mean())\n",
        "\n",
        "# Print the newly processed dataframe\n",
        "print(df[['Total Gas','n-PrOH']])"
      ],
      "execution_count": null,
      "outputs": [
        {
          "output_type": "stream",
          "text": [
            "      Total Gas     n-PrOH\n",
            "0     14.691853        NaN\n",
            "1     18.293114        NaN\n",
            "2     19.885077        NaN\n",
            "3      5.857601        NaN\n",
            "4     22.897618        NaN\n",
            "...         ...        ...\n",
            "3710  45.115029  11.223501\n",
            "3711  64.100000   7.900000\n",
            "3712  52.900000   5.700000\n",
            "3713  47.600000  10.900000\n",
            "3714  44.200000  24.000000\n",
            "\n",
            "[3715 rows x 2 columns]\n",
            "      Total Gas     n-PrOH\n",
            "0     14.691853   2.242256\n",
            "1     18.293114   2.242256\n",
            "2     19.885077   2.242256\n",
            "3      5.857601   2.242256\n",
            "4     22.897618   2.242256\n",
            "...         ...        ...\n",
            "3710  45.115029  11.223501\n",
            "3711  64.100000   7.900000\n",
            "3712  52.900000   5.700000\n",
            "3713  47.600000  10.900000\n",
            "3714  44.200000  24.000000\n",
            "\n",
            "[3715 rows x 2 columns]\n"
          ],
          "name": "stdout"
        }
      ]
    },
    {
      "cell_type": "markdown",
      "metadata": {
        "id": "xCh7k3fyKV3E"
      },
      "source": [
        "* Also, the dataframe has a column which lists Date of the experiment.\n",
        "\n",
        "* It does not make sense to see how time of the experiment influences the experiment being conducted because we don't expect Laws of Physics to be time variant!\n",
        "\n",
        "* So, we will drop that column. We can drop columns in dataframes as,\n",
        "        df = df.drop(columns=['DATE'])"
      ]
    },
    {
      "cell_type": "code",
      "metadata": {
        "id": "l1NgusRcKXXm",
        "colab": {
          "base_uri": "https://localhost:8080/",
          "height": 52
        },
        "outputId": "25a8b695-1769-4d7b-d3d5-53f2fc51d2d1"
      },
      "source": [
        "# Dropping irrelevant columns in Pandas dataframe\n",
        "\n",
        "# df.columns.values lists names of all the columns of the dataframe\n",
        "# Then we check if the string DATE is present in there or not.\n",
        "# This returns True if it is present; else returns false\n",
        "print('Is DATE column present in our dataframe? Ans: ','DATE' in df.columns.values)\n",
        "\n",
        "# Let's drop the column\n",
        "df = df.drop(columns=['DATE'])\n",
        "\n",
        "# Let's check if our command worked!\n",
        "print('Is DATE column present in our dataframe? Ans: ','DATE' in df.columns.values)"
      ],
      "execution_count": null,
      "outputs": [
        {
          "output_type": "stream",
          "text": [
            "Is DATE column present in our dataframe? Ans:  True\n",
            "Is DATE column present in our dataframe? Ans:  False\n"
          ],
          "name": "stdout"
        }
      ]
    },
    {
      "cell_type": "markdown",
      "metadata": {
        "id": "QDAFoxAW9q-u"
      },
      "source": [
        "* Now, let's look at the column 'Catalyst'\n",
        "\n",
        "![picture](https://drive.google.com/uc?id=1Srm8m2I0f1yx7jaIeZvbuHOyQZlQp-D4)\n",
        "\n",
        "* Since Machine Learning requires all the inputs to be numerical, we want to convert it to numerical values. Some variables however aren't numerical in our present case. For example, type of catalyst in the column 'Catalyst' is not numerical. Such variables are called **Categorical Variables**!\n",
        "\n",
        "* So, we perform encoding of such categoical  something called One Hot Encoding. Pandas has a beautiful function which takes care of it for us!\n",
        "\n",
        "* Pandas allows us to use it as, \n",
        "        df = pd.get_dummies(df) \n",
        "\n",
        "* This encodes your dataframe so that now it is now perfect for Machine Learning!"
      ]
    },
    {
      "cell_type": "code",
      "metadata": {
        "id": "FLydHs_JAirk",
        "colab": {
          "base_uri": "https://localhost:8080/",
          "height": 260
        },
        "outputId": "6b365e25-b2a5-4b73-8c68-74b496e9758b"
      },
      "source": [
        "# One-Hot encode your dataframe for categorical variables / features\n",
        "df = pd.get_dummies(df) \n",
        "print(df)"
      ],
      "execution_count": null,
      "outputs": [
        {
          "output_type": "stream",
          "text": [
            "      Nb  Cr  Mo  ...  Electrolyte 2_K HCO3  Electrolyte 2_K OH  Electrolyte 2_Nan\n",
            "0      0   0   0  ...                     0                   0                  1\n",
            "1      0   0   0  ...                     0                   0                  1\n",
            "2      0   0   0  ...                     0                   0                  1\n",
            "3      0   0   0  ...                     0                   0                  1\n",
            "4      0   0   0  ...                     0                   0                  1\n",
            "...   ..  ..  ..  ...                   ...                 ...                ...\n",
            "3710   0   0   0  ...                     0                   0                  1\n",
            "3711   0   0   0  ...                     0                   0                  1\n",
            "3712   0   0   0  ...                     0                   0                  1\n",
            "3713   0   0   0  ...                     0                   0                  1\n",
            "3714   0   0   0  ...                     0                   0                  1\n",
            "\n",
            "[3715 rows x 283 columns]\n"
          ],
          "name": "stdout"
        }
      ]
    },
    {
      "cell_type": "markdown",
      "metadata": {
        "id": "1RkV5u0xU0lB"
      },
      "source": [
        "### Extracting data based on conditions\n",
        "\n",
        "* What if you want to extract data from your dataframe based on some conditions?\n",
        "\n",
        "* Let's look at an example! \n",
        "\n",
        "* Find all the records / rows where the values corresponding to *Current Density mA/cm2* column are greater than, say 10"
      ]
    },
    {
      "cell_type": "code",
      "metadata": {
        "id": "5SfuOQvxVbda"
      },
      "source": [
        "# select_idx_indicator is a boolean array\n",
        "select_idx_indicator = df['Current Density mA/cm2'] > 10.0\n",
        "\n",
        "# df.index is an array composed of index values\n",
        "select_idx = df.index[select_idx_indicator]\n",
        "\n",
        "# loc method allows one to select values based on rows and indices\n",
        "print(df.loc[select_idx])\n",
        "print(df.loc[select_idx,'Current Density mA/cm2'])"
      ],
      "execution_count": null,
      "outputs": []
    },
    {
      "cell_type": "markdown",
      "metadata": {
        "id": "KKGWXUs1Armp"
      },
      "source": [
        "### Saving the data\n",
        "\n",
        "* You can save the data to csv or excel format using Pandas \n",
        "\n",
        "* The way to do is shown below:\n",
        "        df.to_csv('filename.csv')\n",
        "        df.to_excel('filename.csv')"
      ]
    },
    {
      "cell_type": "code",
      "metadata": {
        "id": "2tBDklDWA90d"
      },
      "source": [
        "# Let's save our processed dataframe to a csv\n",
        "\n",
        "# You can replace the string `filename` with the name of your choice!\n",
        "df.to_csv('filename.csv')\n",
        "# This saves the file in the directory you are at"
      ],
      "execution_count": null,
      "outputs": []
    },
    {
      "cell_type": "markdown",
      "metadata": {
        "id": "2MEjOrybBOZi"
      },
      "source": [
        "# This completes the basic tutorial on Pandas!"
      ]
    },
    {
      "cell_type": "markdown",
      "metadata": {
        "id": "xl_WjN_bBYxL"
      },
      "source": [
        "## Generating Training and Testing datasets\n",
        "\n",
        "* We have the processed dataset. Let's generate training and testing datasets out of it\n",
        "\n",
        "* We can use sklearn's train_test_split function to generate the training and testing dataset!\n",
        "      # Let's get input and target values first\n",
        "      X = df.drop(columns=['target'])\n",
        "      y = df['target']\n",
        "\n",
        "      # Let's split the datasets into training and testing!\n",
        "      train_X, test_X, train_y, test_y = train_test_split(X,y,test_size=0.1, random_state=42)\n",
        "\n",
        "* *test_size* parameter determines what fraction of the total dataset to be set aside for generating test dataset\n",
        "\n",
        "* *random_state* parameter determines how to split to it. It is the seed to the random number generator that lies in the background of the *train_test_split* function\n",
        "\n"
      ]
    },
    {
      "cell_type": "code",
      "metadata": {
        "id": "rE-5-7FkD-Ua"
      },
      "source": [
        "# Let's get input and target values first\n",
        "X = df.drop(columns=['Total Gas'])\n",
        "y = df['Total Gas']\n",
        " \n",
        "from sklearn.model_selection import train_test_split\n",
        "\n",
        "# Let's split the datasets into training and testing!\n",
        "X_train, X_test, y_train, y_test = train_test_split(X,y,test_size=0.1, random_state=42)"
      ],
      "execution_count": null,
      "outputs": []
    },
    {
      "cell_type": "markdown",
      "metadata": {
        "id": "z3N7N9ENaO9u"
      },
      "source": [
        "# Different Machine Learning Algorithms \n",
        "\n",
        "* We will use [scikit-learn](https://scikit-learn.org/stable/) (more commonly called sklearn) library's implementation of various algorithms for starters!\n",
        "\n",
        "A few algorithms that we will focus on as part of this course:\n",
        "\n",
        "* Linear Regression (Regression)\n",
        "* Support Vector Machines (Classification)\n",
        "* Naive Bayes (Classification)\n",
        "* Deision Trees (Classification)\n",
        "* Random Forests (Classification / Regression)\n",
        "* K-means clustering (Unsupervised Learning)"
      ]
    },
    {
      "cell_type": "markdown",
      "metadata": {
        "id": "7P_I8KIIZfzZ"
      },
      "source": [
        "# Linear Regression\n",
        "\n",
        "One of the most common Machine Learning algorithm that everyone has most likely used somewhere in their past is... drum rolls....\n",
        "\n",
        "**Linear Regression**!\n",
        "\n",
        "A Linear Regression assumes a linear relationship between the inputs (X) and the outputs (y). \n",
        "\n",
        "\n",
        "$y = Ax+b$ \n",
        "\n",
        "![picture](https://drive.google.com/uc?id=1AIjWCvgGkYVXQMX1A5-Ifno_iqYw61E2)\n",
        "\n",
        "\n",
        "One can implement linear regression as simple as shown below:\n"
      ]
    },
    {
      "cell_type": "code",
      "metadata": {
        "id": "3BlI1AhMQ5T2",
        "colab": {
          "base_uri": "https://localhost:8080/",
          "height": 52
        },
        "outputId": "9d3a47d2-6da9-4968-cd4e-553299d17542"
      },
      "source": [
        "# Recall: Our inputs are pairs (X,y)\n",
        "# They are assigned variable names - (X_train,y_train), (X_test,y_test)\n",
        "\n",
        "# Now, we will use Linear Regression on it\n",
        "\n",
        "from sklearn.linear_model import LinearRegression\n",
        "lr = LinearRegression()\n",
        "\n",
        "# Now let's do some learning!\n",
        "lr.fit(X_train,y_train)\n",
        "\n",
        "# Let's see how it performs on unknown dataset\n",
        "print('Train R2: ', lr.score(X_train,y_train))\n",
        "print('Test R2: ', lr.score(X_test,y_test))"
      ],
      "execution_count": null,
      "outputs": [
        {
          "output_type": "stream",
          "text": [
            "Train R2:  0.9959049955958211\n",
            "Test R2:  -15122714.895665247\n"
          ],
          "name": "stdout"
        }
      ]
    },
    {
      "cell_type": "code",
      "metadata": {
        "id": "py2RLCqH-qLW"
      },
      "source": [
        ""
      ],
      "execution_count": null,
      "outputs": []
    },
    {
      "cell_type": "markdown",
      "metadata": {
        "id": "cLGsx4_gdVG4"
      },
      "source": [
        "# Support Vector Machines (SVM)\n",
        "\n",
        "Support vector machines are very similar to linear regressions. But instead of regression, it is used for classification purposes. \n",
        "\n",
        "Given an input vector x, it calculates the output class as,\n",
        "\n",
        "$y = sign(wx-b)$ \n",
        "\n",
        "where $sign(\\cdot)$ is $\\pm 1$ depending on whether the value of the expression is greater than or less than 0\n",
        "\n",
        "![picture](https://drive.google.com/uc?id=1EtB1QPAD07DEP8NPekEIvxrnOtPkOZNm)"
      ]
    },
    {
      "cell_type": "code",
      "metadata": {
        "id": "JHP_LTGaSwcn"
      },
      "source": [
        "# Recall: Our inputs are pairs (X,y)\n",
        "# They are assigned variable names - (X_train,y_train), (X_test,y_test)\n",
        "\n",
        "# Now, we will use SVM on it\n",
        "# SVC stands for Support Vector Classification\n",
        "\n",
        "from sklearn.svm import SVC\n",
        "svc = SVC()\n",
        "\n",
        "# Now let's do some learning!\n",
        "svc.fit(X_train,y_train)\n",
        "\n",
        "# Let's see how it performs on unknown dataset\n",
        "print('Train Accuracy: ', svc.score(X_train,y_train))\n",
        "print('Test Accuracy: ', svc.score(X_test,y_test))"
      ],
      "execution_count": null,
      "outputs": []
    },
    {
      "cell_type": "markdown",
      "metadata": {
        "id": "fniM7LgLPX1m"
      },
      "source": [
        "# Naive Bayes\n",
        "\n",
        "Naive Bayes is based on Bayes' theorem in Probability. Here is a quick recap expression of Bayes' theorem:\n",
        "\n",
        "$$P(A|B) = \\frac{P(B|A)P(A)}{P(B)}$$\n",
        "\n",
        "Naive Bayes' classifier assumes that all the features of input vector $X$ are conditionally independent of each other given the label class.\n",
        "\n",
        "It predicts class as,\n",
        "\n",
        "$$\\hat{y} = argmax_{k\\in\\{1,...,K\\}} p(C_k) \\prod_{i=1}^{n} p(x_i|C_k)$$\n",
        "\n",
        "where $p(\\cdot)$ denote corresponding probabilities."
      ]
    },
    {
      "cell_type": "code",
      "metadata": {
        "id": "emPjQHAxTWmK"
      },
      "source": [
        "# Recall: Our inputs are pairs (X,y)\n",
        "# They are assigned variable names - (X_train,y_train), (X_test,y_test)\n",
        "\n",
        "# Now, we will use Naive Bayes' classifier on it\n",
        "\n",
        "from sklearn.naive_bayes import GaussianNB\n",
        "gnb = GaussianNB()\n",
        "\n",
        "# Now let's do some learning!\n",
        "gnb.fit(X_train,y_train)\n",
        "\n",
        "# Let's see how it performs on unknown dataset\n",
        "print('Train Accuracy: ', gnb.score(X_train,y_train))\n",
        "print('Test Accuracy: ', gnb.score(X_test,y_test))"
      ],
      "execution_count": null,
      "outputs": []
    },
    {
      "cell_type": "markdown",
      "metadata": {
        "id": "unw_NVvcTydL"
      },
      "source": [
        "# Decision Trees\n",
        "\n",
        "Decision tress perform classification task based on repeated criterions over several input features. An example is shown below:\n",
        "\n",
        "![picture](https://drive.google.com/uc?id=11VyMA8YliL050se_mBX7bfJ1splzgLTd)\n",
        "\n"
      ]
    },
    {
      "cell_type": "code",
      "metadata": {
        "id": "7gk5WL4OTBgR"
      },
      "source": [
        "# Recall: Our inputs are pairs (X,y)\n",
        "# They are assigned variable names - (X_train,y_train), (X_test,y_test)\n",
        "\n",
        "# Now, we will use Decision Trees classifier on it\n",
        "\n",
        "from sklearn.tree import DecisionTreeClassifier\n",
        "dtc = DecisionTreeClassifier()\n",
        "\n",
        "# Now let's do some learning!\n",
        "dtc.fit(X_train,y_train)\n",
        "\n",
        "# Let's see how it performs on unknown dataset\n",
        "print('Train Accuracy: ', dtc.score(X_train,y_train))\n",
        "print('Test Accuracy: ', dtc.score(X_test,y_test))"
      ],
      "execution_count": null,
      "outputs": []
    },
    {
      "cell_type": "markdown",
      "metadata": {
        "id": "a6RSKX9vWzQ7"
      },
      "source": [
        "# Random Forests\n",
        "\n",
        "Decision trees often lead to overfitting i.e. they perform very good on Training datasets but perform very poorly on Testing dataset. \n",
        "\n",
        "Thus, statisticians invented Random forests regressors and classifiers.\n",
        "\n",
        "Random forests regressors and classifiers combine large number of decision trees which have been trained over different subsets of the training datasets.\n",
        "\n",
        "![picture](https://drive.google.com/uc?id=1DmYQ4XVGoevDzo72iO4S9mmtWAAqD_mt)"
      ]
    },
    {
      "cell_type": "code",
      "metadata": {
        "id": "Xt8krN-hXorZ",
        "colab": {
          "base_uri": "https://localhost:8080/",
          "height": 52
        },
        "outputId": "21591f50-9186-49b0-9a25-9d0cee16422b"
      },
      "source": [
        "# Recall: Our inputs are pairs (X,y)\n",
        "# They are assigned variable names - (X_train,y_train), (X_test,y_test)\n",
        "\n",
        "# Now, we will use random forest regression on it\n",
        "\n",
        "from sklearn.ensemble import RandomForestRegressor\n",
        "rfr = RandomForestRegressor()\n",
        "\n",
        "# Now let's do some learning!\n",
        "rfr.fit(X_train,y_train)\n",
        "\n",
        "# Let's see how it performs on unknown dataset\n",
        "print('Train R2: ', rfr.score(X_train,y_train))\n",
        "print('Test R2: ', rfr.score(X_test,y_test))"
      ],
      "execution_count": null,
      "outputs": [
        {
          "output_type": "stream",
          "text": [
            "Train R2:  0.999123159792752\n",
            "Test R2:  0.9977396583348612\n"
          ],
          "name": "stdout"
        }
      ]
    },
    {
      "cell_type": "markdown",
      "metadata": {
        "id": "f9DJ4PlH9CdS"
      },
      "source": [
        "### Let's talk about deriving insights from Random Forests!\n",
        "\n",
        "* Using Random Forest Regressor, we can get feature importances i.e. how much does a property influences the target variable!\n",
        "\n",
        "* Let's see it in action!\n",
        "\n",
        "* Once a Random Forest has been trained you can access input feature importances with:\n",
        "          print(rfr.feature_importances_())"
      ]
    },
    {
      "cell_type": "code",
      "metadata": {
        "id": "WdB2kmVV9DpK"
      },
      "source": [
        ""
      ],
      "execution_count": null,
      "outputs": []
    },
    {
      "cell_type": "markdown",
      "metadata": {
        "id": "ecBuf3cmYTT0"
      },
      "source": [
        "# K-means clustering\n",
        "\n",
        "K-means clustering is one of the very important unsupervised learning methods besides Gaussian Mixtures (which we won't be learning in this course)\n",
        "\n",
        "Probably most intriguing but quite likely not so useful in general. \n",
        "\n",
        "![picture](https://drive.google.com/uc?id=1CKuXc9YxAno4cgRTle7nkGvsoNH0bFVK)\n",
        "\n",
        "The k-means algorithm divides a set of  samples  into  disjoint clusters , each described by the mean of the samples in the cluster. The means are commonly called the cluster “centroids”; note that they are not, in general, points from , although they live in the same space. Training happens by minimizing the expression:\n",
        "\n",
        "$$\\sum_{i=0}^{n} min_{\\mu_j \\in C}(||x_i-\\mu_j||^2)$$"
      ]
    },
    {
      "cell_type": "markdown",
      "metadata": {
        "id": "jTTO3dIFcg7l"
      },
      "source": [
        "# Can you make it simple?\n",
        "\n",
        "* At this point, a genuine question will be how do we know which ML algorithm will work the best for me. \n",
        "\n",
        "* The list that we discussed before for all the ML platforms is just tip of the iceberg of all the possible supervised ML techniques that exist\n",
        "\n",
        "* [TPOT](https://epistasislab.github.io/tpot/) is one the Python libraries that does that for you!\n",
        "\n",
        "* **TPOT** uses Genetic Algorithm to find out the best machine learning pipeline for you!\n",
        "\n",
        "* You may ask - then why does the previous library SKLearn still exist? Well, because TPOT is built upon it and it is quite likely that TPOT will build complex models. Complex models are always difficult to interpret! "
      ]
    },
    {
      "cell_type": "markdown",
      "metadata": {
        "id": "mvge711Bd0Rp"
      },
      "source": [
        "# How to use TPOT?"
      ]
    },
    {
      "cell_type": "code",
      "metadata": {
        "id": "iimHx4XMZ6zG",
        "colab": {
          "base_uri": "https://localhost:8080/",
          "height": 176,
          "referenced_widgets": [
            "9d63e27f1cc04aa092fd53bd10464ca5",
            "4ec582b5538b4a428c397e2c9e61276c",
            "9049b29661c44d8db2bc663b8ba047ac",
            "4dc80a631c744faaad4eace79718913c",
            "4454bd70ab9b480483d74f0d37ff58cb",
            "785715c154b04aed853ba8c7b9df187b",
            "1b199597ace44bd1a41f42201f6a7035",
            "7036035977c44d8499aa75ff243c4dfe"
          ]
        },
        "outputId": "19522f0e-656a-4014-8caa-2f869b43185b"
      },
      "source": [
        "# This code snippet explains how to use TPOT for regression \n",
        "# Example borrowed from https://epistasislab.github.io/tpot/examples/#boston-housing-prices-modeling\n",
        "\n",
        "# This imports TPOT regressor object\n",
        "from tpot import TPOTRegressor\n",
        "\n",
        "# Loading Boston Housing price dataset from Sklearn\n",
        "from sklearn.datasets import load_boston\n",
        "\n",
        "# Importing library to perform testing and training data split\n",
        "from sklearn.model_selection import train_test_split\n",
        "\n",
        "# Load the dataset\n",
        "housing = load_boston()\n",
        "\n",
        "# Perform the split between training and testing\n",
        "X_train, X_test, y_train, y_test = train_test_split(housing.data, housing.target,\n",
        "                                                    train_size=0.75, test_size=0.25, random_state=42)\n",
        "\n",
        "# Let's load the TPOT regression object\n",
        "# TPOT is based on Genetic algorithm(GA) for finding the best ML model for you!\n",
        "# Just like evolution, GA has generations and population size parameters\n",
        "# Generations indicate how much time do we wanna give to the TPOT searching algorithm\n",
        "# Population size indicates how many of the variants of previous generation survive after every generation\n",
        "# We eliminate those pipelines which perform badly from each generation\n",
        "tpot = TPOTRegressor(generations=5, population_size=50, verbosity=2, random_state=42)\n",
        "\n",
        "# Fitting the TPOT regression model\n",
        "tpot.fit(X_train, y_train)\n",
        "\n",
        "# Let's check its R2 score on testing dataset\n",
        "print(tpot.score(X_test, y_test))\n",
        "\n",
        "# We can also use tpot object to make predictions\n",
        "y_pred = tpot.predict(X_test)\n",
        "\n"
      ],
      "execution_count": null,
      "outputs": [
        {
          "output_type": "display_data",
          "data": {
            "application/vnd.jupyter.widget-view+json": {
              "model_id": "9d63e27f1cc04aa092fd53bd10464ca5",
              "version_minor": 0,
              "version_major": 2
            },
            "text/plain": [
              "HBox(children=(IntProgress(value=0, description='Optimization Progress', max=300, style=ProgressStyle(descript…"
            ]
          },
          "metadata": {
            "tags": []
          }
        },
        {
          "output_type": "stream",
          "text": [
            "Generation 1 - Current best internal CV score: -12.183902552870293\n",
            "Generation 2 - Current best internal CV score: -12.12046613884387\n",
            "Generation 3 - Current best internal CV score: -12.12046613884387\n",
            "Generation 4 - Current best internal CV score: -11.667642174558235\n",
            "Generation 5 - Current best internal CV score: -11.644597394090933\n",
            "\n",
            "Best pipeline: XGBRegressor(input_matrix, learning_rate=0.1, max_depth=6, min_child_weight=11, n_estimators=100, nthread=1, objective=reg:squarederror, subsample=0.7000000000000001)\n",
            "-11.239793783197994\n"
          ],
          "name": "stdout"
        }
      ]
    },
    {
      "cell_type": "code",
      "metadata": {
        "id": "RuzwwWzMN7PG",
        "colab": {
          "base_uri": "https://localhost:8080/",
          "height": 279
        },
        "outputId": "392ad53d-134e-4fdc-85a2-907b7e12e6d0"
      },
      "source": [
        "import matplotlib.pyplot as plt\n",
        "# Now, let's plot predicted values of y against original values\n",
        "plt.plot(y_test,y_test,'r--')\n",
        "plt.scatter(y_test,y_pred)\n",
        "plt.xlabel('Original values')\n",
        "plt.ylabel('Predicted values')\n",
        "plt.show()\n",
        "\n",
        "# You can also save the model and use it later!\n",
        "tpot.export('tpot_boston_pipeline.py')"
      ],
      "execution_count": null,
      "outputs": [
        {
          "output_type": "display_data",
          "data": {
            "image/png": "[encoded data removed]",
            "text/plain": [
              "<Figure size 432x288 with 1 Axes>"
            ]
          },
          "metadata": {
            "tags": [],
            "needs_background": "light"
          }
        }
      ]
    },
    {
      "cell_type": "code",
      "metadata": {
        "id": "v18S4QqFPXto"
      },
      "source": [
        ""
      ],
      "execution_count": null,
      "outputs": []
    }
  ]
}